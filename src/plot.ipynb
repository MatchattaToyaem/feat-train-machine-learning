{
 "metadata": {
  "language_info": {
   "codemirror_mode": {
    "name": "ipython",
    "version": 3
   },
   "file_extension": ".py",
   "mimetype": "text/x-python",
   "name": "python",
   "nbconvert_exporter": "python",
   "pygments_lexer": "ipython3",
   "version": "3.9.1-final"
  },
  "orig_nbformat": 2,
  "kernelspec": {
   "name": "python3",
   "display_name": "Python 3",
   "language": "python"
  }
 },
 "nbformat": 4,
 "nbformat_minor": 2,
 "cells": [
  {
   "cell_type": "code",
   "execution_count": 16,
   "metadata": {},
   "outputs": [],
   "source": [
    "import numpy as np\n",
    "import pandas as pd\n",
    "import matplotlib.pyplot as plt\n",
    "import seaborn as sns"
   ]
  },
  {
   "cell_type": "code",
   "execution_count": 17,
   "metadata": {},
   "outputs": [],
   "source": [
    "train = pd.read_csv('./k_fold_train.csv')\n",
    "test = pd.read_csv('./k_fold_test.csv')\n",
    "train['method'] = 'train'\n",
    "test['method'] = 'test'\n",
    "train = train.rename(columns={\"train_neg_mean_squared_error\": \"MSE\", \"train_neg_mean_absolute_error\": \"MAE\", \"train_r2\": \"R2\", \"train_neg_mean_absolute_percentage_error\": \"MAPE\"})\n",
    "test = test.rename(columns={\"test_neg_mean_squared_error\": \"MSE\", \"test_neg_mean_absolute_error\": \"MAE\", \"test_r2\": \"R2\", \"test_neg_mean_absolute_percentage_error\": \"MAPE\"})\n",
    "allData = train.append(test)"
   ]
  },
  {
   "cell_type": "code",
   "execution_count": 18,
   "metadata": {},
   "outputs": [
    {
     "output_type": "execute_result",
     "data": {
      "text/plain": [
       "          MSE       MAE        R2      MAPE              model method\n",
       "0    0.074954  0.246666  3.420602  0.070849  linear regression   test\n",
       "1    0.015875  0.117904 -0.570956  0.034684  linear regression   test\n",
       "2    0.031803  0.144380 -0.732255  0.040618  linear regression   test\n",
       "3    0.046455  0.176939  0.392708  0.052272  linear regression   test\n",
       "4    0.026809  0.127505  8.008274  0.036624  linear regression   test\n",
       "..        ...       ...       ...       ...                ...    ...\n",
       "795  0.034355  0.168150 -0.869736  0.048093     SVR regression   test\n",
       "796  0.007601  0.079358 -0.889226  0.024350     SVR regression   test\n",
       "797  0.022410  0.124704 -0.855551  0.034380     SVR regression   test\n",
       "798  0.031544  0.167846 -0.857020  0.048893     SVR regression   test\n",
       "799  0.015592  0.121906 -0.551241  0.037870     SVR regression   test\n",
       "\n",
       "[800 rows x 6 columns]"
      ],
      "text/html": "<div>\n<style scoped>\n    .dataframe tbody tr th:only-of-type {\n        vertical-align: middle;\n    }\n\n    .dataframe tbody tr th {\n        vertical-align: top;\n    }\n\n    .dataframe thead th {\n        text-align: right;\n    }\n</style>\n<table border=\"1\" class=\"dataframe\">\n  <thead>\n    <tr style=\"text-align: right;\">\n      <th></th>\n      <th>MSE</th>\n      <th>MAE</th>\n      <th>R2</th>\n      <th>MAPE</th>\n      <th>model</th>\n      <th>method</th>\n    </tr>\n  </thead>\n  <tbody>\n    <tr>\n      <th>0</th>\n      <td>0.074954</td>\n      <td>0.246666</td>\n      <td>3.420602</td>\n      <td>0.070849</td>\n      <td>linear regression</td>\n      <td>test</td>\n    </tr>\n    <tr>\n      <th>1</th>\n      <td>0.015875</td>\n      <td>0.117904</td>\n      <td>-0.570956</td>\n      <td>0.034684</td>\n      <td>linear regression</td>\n      <td>test</td>\n    </tr>\n    <tr>\n      <th>2</th>\n      <td>0.031803</td>\n      <td>0.144380</td>\n      <td>-0.732255</td>\n      <td>0.040618</td>\n      <td>linear regression</td>\n      <td>test</td>\n    </tr>\n    <tr>\n      <th>3</th>\n      <td>0.046455</td>\n      <td>0.176939</td>\n      <td>0.392708</td>\n      <td>0.052272</td>\n      <td>linear regression</td>\n      <td>test</td>\n    </tr>\n    <tr>\n      <th>4</th>\n      <td>0.026809</td>\n      <td>0.127505</td>\n      <td>8.008274</td>\n      <td>0.036624</td>\n      <td>linear regression</td>\n      <td>test</td>\n    </tr>\n    <tr>\n      <th>...</th>\n      <td>...</td>\n      <td>...</td>\n      <td>...</td>\n      <td>...</td>\n      <td>...</td>\n      <td>...</td>\n    </tr>\n    <tr>\n      <th>795</th>\n      <td>0.034355</td>\n      <td>0.168150</td>\n      <td>-0.869736</td>\n      <td>0.048093</td>\n      <td>SVR regression</td>\n      <td>test</td>\n    </tr>\n    <tr>\n      <th>796</th>\n      <td>0.007601</td>\n      <td>0.079358</td>\n      <td>-0.889226</td>\n      <td>0.024350</td>\n      <td>SVR regression</td>\n      <td>test</td>\n    </tr>\n    <tr>\n      <th>797</th>\n      <td>0.022410</td>\n      <td>0.124704</td>\n      <td>-0.855551</td>\n      <td>0.034380</td>\n      <td>SVR regression</td>\n      <td>test</td>\n    </tr>\n    <tr>\n      <th>798</th>\n      <td>0.031544</td>\n      <td>0.167846</td>\n      <td>-0.857020</td>\n      <td>0.048893</td>\n      <td>SVR regression</td>\n      <td>test</td>\n    </tr>\n    <tr>\n      <th>799</th>\n      <td>0.015592</td>\n      <td>0.121906</td>\n      <td>-0.551241</td>\n      <td>0.037870</td>\n      <td>SVR regression</td>\n      <td>test</td>\n    </tr>\n  </tbody>\n</table>\n<p>800 rows × 6 columns</p>\n</div>"
     },
     "metadata": {},
     "execution_count": 18
    }
   ],
   "source": [
    "test"
   ]
  },
  {
   "cell_type": "code",
   "execution_count": 19,
   "metadata": {},
   "outputs": [],
   "source": [
    "mean = allData.groupby(['model', 'method']).mean()\n",
    "mean.to_csv('out.csv', index=True)"
   ]
  },
  {
   "cell_type": "code",
   "execution_count": 20,
   "metadata": {},
   "outputs": [
    {
     "output_type": "execute_result",
     "data": {
      "text/plain": [
       "                                          MSE           MAE         R2  \\\n",
       "model                    method                                          \n",
       "Decision tree regression test    6.927333e-03  2.140000e-02  -0.810790   \n",
       "                         train   0.000000e+00  0.000000e+00  -1.000000   \n",
       "ElasticNet regression    test    1.150832e-01  2.341424e-01   0.392433   \n",
       "                         train   1.072180e-01  2.240990e-01   0.000000   \n",
       "Lasso regression         test    1.150832e-01  2.341424e-01   0.392433   \n",
       "                         train   1.072180e-01  2.240990e-01   0.000000   \n",
       "NeuralNetwork regression test    5.969986e-01  6.455852e-01  28.814617   \n",
       "                         train   4.481904e-01  5.493146e-01   3.224586   \n",
       "Ridge regression         test    4.589980e-02  1.770413e-01   0.724798   \n",
       "                         train   3.739058e-02  1.620067e-01  -0.649410   \n",
       "SVR regression           test    1.774306e-02  1.161160e-01  -0.538396   \n",
       "                         train   9.880512e-03  9.180590e-02  -0.906638   \n",
       "linear regression        test    4.608381e-02  1.779108e-01   0.783098   \n",
       "                         train   3.733559e-02  1.623177e-01  -0.649917   \n",
       "polynomial regression    test    5.210740e-02  6.779652e-02   1.320246   \n",
       "                         train   1.612517e-26  9.528872e-14  -1.000000   \n",
       "\n",
       "                                         MAPE  \n",
       "model                    method                \n",
       "Decision tree regression test    6.857140e-03  \n",
       "                         train   0.000000e+00  \n",
       "ElasticNet regression    test    6.886455e-02  \n",
       "                         train   6.592628e-02  \n",
       "Lasso regression         test    6.886455e-02  \n",
       "                         train   6.592628e-02  \n",
       "NeuralNetwork regression test    1.865202e-01  \n",
       "                         train   1.593410e-01  \n",
       "Ridge regression         test    5.106845e-02  \n",
       "                         train   4.677709e-02  \n",
       "SVR regression           test    3.390826e-02  \n",
       "                         train   2.700013e-02  \n",
       "linear regression        test    5.134880e-02  \n",
       "                         train   4.688408e-02  \n",
       "polynomial regression    test    2.079667e-02  \n",
       "                         train   2.792110e-14  "
      ],
      "text/html": "<div>\n<style scoped>\n    .dataframe tbody tr th:only-of-type {\n        vertical-align: middle;\n    }\n\n    .dataframe tbody tr th {\n        vertical-align: top;\n    }\n\n    .dataframe thead th {\n        text-align: right;\n    }\n</style>\n<table border=\"1\" class=\"dataframe\">\n  <thead>\n    <tr style=\"text-align: right;\">\n      <th></th>\n      <th></th>\n      <th>MSE</th>\n      <th>MAE</th>\n      <th>R2</th>\n      <th>MAPE</th>\n    </tr>\n    <tr>\n      <th>model</th>\n      <th>method</th>\n      <th></th>\n      <th></th>\n      <th></th>\n      <th></th>\n    </tr>\n  </thead>\n  <tbody>\n    <tr>\n      <th rowspan=\"2\" valign=\"top\">Decision tree regression</th>\n      <th>test</th>\n      <td>6.927333e-03</td>\n      <td>2.140000e-02</td>\n      <td>-0.810790</td>\n      <td>6.857140e-03</td>\n    </tr>\n    <tr>\n      <th>train</th>\n      <td>0.000000e+00</td>\n      <td>0.000000e+00</td>\n      <td>-1.000000</td>\n      <td>0.000000e+00</td>\n    </tr>\n    <tr>\n      <th rowspan=\"2\" valign=\"top\">ElasticNet regression</th>\n      <th>test</th>\n      <td>1.150832e-01</td>\n      <td>2.341424e-01</td>\n      <td>0.392433</td>\n      <td>6.886455e-02</td>\n    </tr>\n    <tr>\n      <th>train</th>\n      <td>1.072180e-01</td>\n      <td>2.240990e-01</td>\n      <td>0.000000</td>\n      <td>6.592628e-02</td>\n    </tr>\n    <tr>\n      <th rowspan=\"2\" valign=\"top\">Lasso regression</th>\n      <th>test</th>\n      <td>1.150832e-01</td>\n      <td>2.341424e-01</td>\n      <td>0.392433</td>\n      <td>6.886455e-02</td>\n    </tr>\n    <tr>\n      <th>train</th>\n      <td>1.072180e-01</td>\n      <td>2.240990e-01</td>\n      <td>0.000000</td>\n      <td>6.592628e-02</td>\n    </tr>\n    <tr>\n      <th rowspan=\"2\" valign=\"top\">NeuralNetwork regression</th>\n      <th>test</th>\n      <td>5.969986e-01</td>\n      <td>6.455852e-01</td>\n      <td>28.814617</td>\n      <td>1.865202e-01</td>\n    </tr>\n    <tr>\n      <th>train</th>\n      <td>4.481904e-01</td>\n      <td>5.493146e-01</td>\n      <td>3.224586</td>\n      <td>1.593410e-01</td>\n    </tr>\n    <tr>\n      <th rowspan=\"2\" valign=\"top\">Ridge regression</th>\n      <th>test</th>\n      <td>4.589980e-02</td>\n      <td>1.770413e-01</td>\n      <td>0.724798</td>\n      <td>5.106845e-02</td>\n    </tr>\n    <tr>\n      <th>train</th>\n      <td>3.739058e-02</td>\n      <td>1.620067e-01</td>\n      <td>-0.649410</td>\n      <td>4.677709e-02</td>\n    </tr>\n    <tr>\n      <th rowspan=\"2\" valign=\"top\">SVR regression</th>\n      <th>test</th>\n      <td>1.774306e-02</td>\n      <td>1.161160e-01</td>\n      <td>-0.538396</td>\n      <td>3.390826e-02</td>\n    </tr>\n    <tr>\n      <th>train</th>\n      <td>9.880512e-03</td>\n      <td>9.180590e-02</td>\n      <td>-0.906638</td>\n      <td>2.700013e-02</td>\n    </tr>\n    <tr>\n      <th rowspan=\"2\" valign=\"top\">linear regression</th>\n      <th>test</th>\n      <td>4.608381e-02</td>\n      <td>1.779108e-01</td>\n      <td>0.783098</td>\n      <td>5.134880e-02</td>\n    </tr>\n    <tr>\n      <th>train</th>\n      <td>3.733559e-02</td>\n      <td>1.623177e-01</td>\n      <td>-0.649917</td>\n      <td>4.688408e-02</td>\n    </tr>\n    <tr>\n      <th rowspan=\"2\" valign=\"top\">polynomial regression</th>\n      <th>test</th>\n      <td>5.210740e-02</td>\n      <td>6.779652e-02</td>\n      <td>1.320246</td>\n      <td>2.079667e-02</td>\n    </tr>\n    <tr>\n      <th>train</th>\n      <td>1.612517e-26</td>\n      <td>9.528872e-14</td>\n      <td>-1.000000</td>\n      <td>2.792110e-14</td>\n    </tr>\n  </tbody>\n</table>\n</div>"
     },
     "metadata": {},
     "execution_count": 20
    }
   ],
   "source": [
    "# fig, axes = plt.subplots(ncols=2, nrows = 2,figsize=(30, 10))\n",
    "mean\n",
    "# ax = sns.barplot(x=\"MAE\", y= \"model\", hue=\"method\", data=allData)"
   ]
  },
  {
   "cell_type": "code",
   "execution_count": 21,
   "metadata": {},
   "outputs": [
    {
     "output_type": "execute_result",
     "data": {
      "text/plain": [
       "                                          MSE           MAE         R2  \\\n",
       "model                    method                                          \n",
       "Decision tree regression train   0.000000e+00  0.000000e+00  -1.000000   \n",
       "polynomial regression    train   1.612517e-26  9.528872e-14  -1.000000   \n",
       "Decision tree regression test    6.927333e-03  2.140000e-02  -0.810790   \n",
       "SVR regression           train   9.880512e-03  9.180590e-02  -0.906638   \n",
       "                         test    1.774306e-02  1.161160e-01  -0.538396   \n",
       "linear regression        train   3.733559e-02  1.623177e-01  -0.649917   \n",
       "Ridge regression         train   3.739058e-02  1.620067e-01  -0.649410   \n",
       "                         test    4.589980e-02  1.770413e-01   0.724798   \n",
       "linear regression        test    4.608381e-02  1.779108e-01   0.783098   \n",
       "polynomial regression    test    5.210740e-02  6.779652e-02   1.320246   \n",
       "ElasticNet regression    train   1.072180e-01  2.240990e-01   0.000000   \n",
       "Lasso regression         train   1.072180e-01  2.240990e-01   0.000000   \n",
       "ElasticNet regression    test    1.150832e-01  2.341424e-01   0.392433   \n",
       "Lasso regression         test    1.150832e-01  2.341424e-01   0.392433   \n",
       "NeuralNetwork regression train   4.481904e-01  5.493146e-01   3.224586   \n",
       "                         test    5.969986e-01  6.455852e-01  28.814617   \n",
       "\n",
       "                                         MAPE  \n",
       "model                    method                \n",
       "Decision tree regression train   0.000000e+00  \n",
       "polynomial regression    train   2.792110e-14  \n",
       "Decision tree regression test    6.857140e-03  \n",
       "SVR regression           train   2.700013e-02  \n",
       "                         test    3.390826e-02  \n",
       "linear regression        train   4.688408e-02  \n",
       "Ridge regression         train   4.677709e-02  \n",
       "                         test    5.106845e-02  \n",
       "linear regression        test    5.134880e-02  \n",
       "polynomial regression    test    2.079667e-02  \n",
       "ElasticNet regression    train   6.592628e-02  \n",
       "Lasso regression         train   6.592628e-02  \n",
       "ElasticNet regression    test    6.886455e-02  \n",
       "Lasso regression         test    6.886455e-02  \n",
       "NeuralNetwork regression train   1.593410e-01  \n",
       "                         test    1.865202e-01  "
      ],
      "text/html": "<div>\n<style scoped>\n    .dataframe tbody tr th:only-of-type {\n        vertical-align: middle;\n    }\n\n    .dataframe tbody tr th {\n        vertical-align: top;\n    }\n\n    .dataframe thead th {\n        text-align: right;\n    }\n</style>\n<table border=\"1\" class=\"dataframe\">\n  <thead>\n    <tr style=\"text-align: right;\">\n      <th></th>\n      <th></th>\n      <th>MSE</th>\n      <th>MAE</th>\n      <th>R2</th>\n      <th>MAPE</th>\n    </tr>\n    <tr>\n      <th>model</th>\n      <th>method</th>\n      <th></th>\n      <th></th>\n      <th></th>\n      <th></th>\n    </tr>\n  </thead>\n  <tbody>\n    <tr>\n      <th>Decision tree regression</th>\n      <th>train</th>\n      <td>0.000000e+00</td>\n      <td>0.000000e+00</td>\n      <td>-1.000000</td>\n      <td>0.000000e+00</td>\n    </tr>\n    <tr>\n      <th>polynomial regression</th>\n      <th>train</th>\n      <td>1.612517e-26</td>\n      <td>9.528872e-14</td>\n      <td>-1.000000</td>\n      <td>2.792110e-14</td>\n    </tr>\n    <tr>\n      <th>Decision tree regression</th>\n      <th>test</th>\n      <td>6.927333e-03</td>\n      <td>2.140000e-02</td>\n      <td>-0.810790</td>\n      <td>6.857140e-03</td>\n    </tr>\n    <tr>\n      <th rowspan=\"2\" valign=\"top\">SVR regression</th>\n      <th>train</th>\n      <td>9.880512e-03</td>\n      <td>9.180590e-02</td>\n      <td>-0.906638</td>\n      <td>2.700013e-02</td>\n    </tr>\n    <tr>\n      <th>test</th>\n      <td>1.774306e-02</td>\n      <td>1.161160e-01</td>\n      <td>-0.538396</td>\n      <td>3.390826e-02</td>\n    </tr>\n    <tr>\n      <th>linear regression</th>\n      <th>train</th>\n      <td>3.733559e-02</td>\n      <td>1.623177e-01</td>\n      <td>-0.649917</td>\n      <td>4.688408e-02</td>\n    </tr>\n    <tr>\n      <th rowspan=\"2\" valign=\"top\">Ridge regression</th>\n      <th>train</th>\n      <td>3.739058e-02</td>\n      <td>1.620067e-01</td>\n      <td>-0.649410</td>\n      <td>4.677709e-02</td>\n    </tr>\n    <tr>\n      <th>test</th>\n      <td>4.589980e-02</td>\n      <td>1.770413e-01</td>\n      <td>0.724798</td>\n      <td>5.106845e-02</td>\n    </tr>\n    <tr>\n      <th>linear regression</th>\n      <th>test</th>\n      <td>4.608381e-02</td>\n      <td>1.779108e-01</td>\n      <td>0.783098</td>\n      <td>5.134880e-02</td>\n    </tr>\n    <tr>\n      <th>polynomial regression</th>\n      <th>test</th>\n      <td>5.210740e-02</td>\n      <td>6.779652e-02</td>\n      <td>1.320246</td>\n      <td>2.079667e-02</td>\n    </tr>\n    <tr>\n      <th>ElasticNet regression</th>\n      <th>train</th>\n      <td>1.072180e-01</td>\n      <td>2.240990e-01</td>\n      <td>0.000000</td>\n      <td>6.592628e-02</td>\n    </tr>\n    <tr>\n      <th>Lasso regression</th>\n      <th>train</th>\n      <td>1.072180e-01</td>\n      <td>2.240990e-01</td>\n      <td>0.000000</td>\n      <td>6.592628e-02</td>\n    </tr>\n    <tr>\n      <th>ElasticNet regression</th>\n      <th>test</th>\n      <td>1.150832e-01</td>\n      <td>2.341424e-01</td>\n      <td>0.392433</td>\n      <td>6.886455e-02</td>\n    </tr>\n    <tr>\n      <th>Lasso regression</th>\n      <th>test</th>\n      <td>1.150832e-01</td>\n      <td>2.341424e-01</td>\n      <td>0.392433</td>\n      <td>6.886455e-02</td>\n    </tr>\n    <tr>\n      <th rowspan=\"2\" valign=\"top\">NeuralNetwork regression</th>\n      <th>train</th>\n      <td>4.481904e-01</td>\n      <td>5.493146e-01</td>\n      <td>3.224586</td>\n      <td>1.593410e-01</td>\n    </tr>\n    <tr>\n      <th>test</th>\n      <td>5.969986e-01</td>\n      <td>6.455852e-01</td>\n      <td>28.814617</td>\n      <td>1.865202e-01</td>\n    </tr>\n  </tbody>\n</table>\n</div>"
     },
     "metadata": {},
     "execution_count": 21
    }
   ],
   "source": [
    "mean.sort_values('MSE', inplace=True)\n",
    "mean"
   ]
  },
  {
   "cell_type": "code",
   "execution_count": null,
   "metadata": {},
   "outputs": [],
   "source": []
  }
 ]
}